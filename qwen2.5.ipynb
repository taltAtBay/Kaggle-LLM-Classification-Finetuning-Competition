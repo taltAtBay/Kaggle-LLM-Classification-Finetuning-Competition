{
 "cells": [
  {
   "cell_type": "code",
   "execution_count": 1,
   "id": "21f12d79-fdf6-4ca5-b85c-85455cd8fe9a",
   "metadata": {
    "scrolled": true
   },
   "outputs": [
    {
     "name": "stdout",
     "output_type": "stream",
     "text": [
      "Collecting accelerate>=0.26.0\n",
      "  Downloading accelerate-1.3.0-py3-none-any.whl.metadata (19 kB)\n",
      "Requirement already satisfied: numpy<3.0.0,>=1.17 in /home/ec2-user/anaconda3/envs/pytorch_p310/lib/python3.10/site-packages (from accelerate>=0.26.0) (1.26.4)\n",
      "Requirement already satisfied: packaging>=20.0 in /home/ec2-user/anaconda3/envs/pytorch_p310/lib/python3.10/site-packages (from accelerate>=0.26.0) (21.3)\n",
      "Requirement already satisfied: psutil in /home/ec2-user/anaconda3/envs/pytorch_p310/lib/python3.10/site-packages (from accelerate>=0.26.0) (6.1.1)\n",
      "Requirement already satisfied: pyyaml in /home/ec2-user/anaconda3/envs/pytorch_p310/lib/python3.10/site-packages (from accelerate>=0.26.0) (6.0.2)\n",
      "Requirement already satisfied: torch>=2.0.0 in /home/ec2-user/anaconda3/envs/pytorch_p310/lib/python3.10/site-packages (from accelerate>=0.26.0) (2.2.2)\n",
      "Collecting huggingface-hub>=0.21.0 (from accelerate>=0.26.0)\n",
      "  Downloading huggingface_hub-0.28.1-py3-none-any.whl.metadata (13 kB)\n",
      "Collecting safetensors>=0.4.3 (from accelerate>=0.26.0)\n",
      "  Downloading safetensors-0.5.2-cp38-abi3-manylinux_2_17_x86_64.manylinux2014_x86_64.whl.metadata (3.8 kB)\n",
      "Requirement already satisfied: filelock in /home/ec2-user/anaconda3/envs/pytorch_p310/lib/python3.10/site-packages (from huggingface-hub>=0.21.0->accelerate>=0.26.0) (3.16.1)\n",
      "Requirement already satisfied: fsspec>=2023.5.0 in /home/ec2-user/anaconda3/envs/pytorch_p310/lib/python3.10/site-packages (from huggingface-hub>=0.21.0->accelerate>=0.26.0) (2024.12.0)\n",
      "Requirement already satisfied: requests in /home/ec2-user/anaconda3/envs/pytorch_p310/lib/python3.10/site-packages (from huggingface-hub>=0.21.0->accelerate>=0.26.0) (2.32.3)\n",
      "Requirement already satisfied: tqdm>=4.42.1 in /home/ec2-user/anaconda3/envs/pytorch_p310/lib/python3.10/site-packages (from huggingface-hub>=0.21.0->accelerate>=0.26.0) (4.67.1)\n",
      "Requirement already satisfied: typing-extensions>=3.7.4.3 in /home/ec2-user/anaconda3/envs/pytorch_p310/lib/python3.10/site-packages (from huggingface-hub>=0.21.0->accelerate>=0.26.0) (4.12.2)\n",
      "Requirement already satisfied: pyparsing!=3.0.5,>=2.0.2 in /home/ec2-user/anaconda3/envs/pytorch_p310/lib/python3.10/site-packages (from packaging>=20.0->accelerate>=0.26.0) (3.2.1)\n",
      "Requirement already satisfied: sympy in /home/ec2-user/anaconda3/envs/pytorch_p310/lib/python3.10/site-packages (from torch>=2.0.0->accelerate>=0.26.0) (1.13.3)\n",
      "Requirement already satisfied: networkx in /home/ec2-user/anaconda3/envs/pytorch_p310/lib/python3.10/site-packages (from torch>=2.0.0->accelerate>=0.26.0) (3.4.2)\n",
      "Requirement already satisfied: jinja2 in /home/ec2-user/anaconda3/envs/pytorch_p310/lib/python3.10/site-packages (from torch>=2.0.0->accelerate>=0.26.0) (3.1.5)\n",
      "Requirement already satisfied: MarkupSafe>=2.0 in /home/ec2-user/anaconda3/envs/pytorch_p310/lib/python3.10/site-packages (from jinja2->torch>=2.0.0->accelerate>=0.26.0) (3.0.2)\n",
      "Requirement already satisfied: charset_normalizer<4,>=2 in /home/ec2-user/anaconda3/envs/pytorch_p310/lib/python3.10/site-packages (from requests->huggingface-hub>=0.21.0->accelerate>=0.26.0) (3.4.1)\n",
      "Requirement already satisfied: idna<4,>=2.5 in /home/ec2-user/anaconda3/envs/pytorch_p310/lib/python3.10/site-packages (from requests->huggingface-hub>=0.21.0->accelerate>=0.26.0) (3.10)\n",
      "Requirement already satisfied: urllib3<3,>=1.21.1 in /home/ec2-user/anaconda3/envs/pytorch_p310/lib/python3.10/site-packages (from requests->huggingface-hub>=0.21.0->accelerate>=0.26.0) (2.3.0)\n",
      "Requirement already satisfied: certifi>=2017.4.17 in /home/ec2-user/anaconda3/envs/pytorch_p310/lib/python3.10/site-packages (from requests->huggingface-hub>=0.21.0->accelerate>=0.26.0) (2024.12.14)\n",
      "Requirement already satisfied: mpmath<1.4,>=1.1.0 in /home/ec2-user/anaconda3/envs/pytorch_p310/lib/python3.10/site-packages (from sympy->torch>=2.0.0->accelerate>=0.26.0) (1.3.0)\n",
      "Downloading accelerate-1.3.0-py3-none-any.whl (336 kB)\n",
      "Downloading huggingface_hub-0.28.1-py3-none-any.whl (464 kB)\n",
      "Downloading safetensors-0.5.2-cp38-abi3-manylinux_2_17_x86_64.manylinux2014_x86_64.whl (461 kB)\n",
      "Installing collected packages: safetensors, huggingface-hub, accelerate\n",
      "Successfully installed accelerate-1.3.0 huggingface-hub-0.28.1 safetensors-0.5.2\n",
      "Collecting bitsandbytes\n",
      "  Downloading bitsandbytes-0.45.1-py3-none-manylinux_2_24_x86_64.whl.metadata (5.8 kB)\n",
      "Requirement already satisfied: torch~=2.0 in /home/ec2-user/anaconda3/envs/pytorch_p310/lib/python3.10/site-packages (from bitsandbytes) (2.2.2)\n",
      "Requirement already satisfied: numpy>=1.17 in /home/ec2-user/anaconda3/envs/pytorch_p310/lib/python3.10/site-packages (from bitsandbytes) (1.26.4)\n",
      "Requirement already satisfied: filelock in /home/ec2-user/anaconda3/envs/pytorch_p310/lib/python3.10/site-packages (from torch~=2.0->bitsandbytes) (3.16.1)\n",
      "Requirement already satisfied: typing-extensions>=4.8.0 in /home/ec2-user/anaconda3/envs/pytorch_p310/lib/python3.10/site-packages (from torch~=2.0->bitsandbytes) (4.12.2)\n",
      "Requirement already satisfied: sympy in /home/ec2-user/anaconda3/envs/pytorch_p310/lib/python3.10/site-packages (from torch~=2.0->bitsandbytes) (1.13.3)\n",
      "Requirement already satisfied: networkx in /home/ec2-user/anaconda3/envs/pytorch_p310/lib/python3.10/site-packages (from torch~=2.0->bitsandbytes) (3.4.2)\n",
      "Requirement already satisfied: jinja2 in /home/ec2-user/anaconda3/envs/pytorch_p310/lib/python3.10/site-packages (from torch~=2.0->bitsandbytes) (3.1.5)\n",
      "Requirement already satisfied: fsspec in /home/ec2-user/anaconda3/envs/pytorch_p310/lib/python3.10/site-packages (from torch~=2.0->bitsandbytes) (2024.12.0)\n",
      "Requirement already satisfied: MarkupSafe>=2.0 in /home/ec2-user/anaconda3/envs/pytorch_p310/lib/python3.10/site-packages (from jinja2->torch~=2.0->bitsandbytes) (3.0.2)\n",
      "Requirement already satisfied: mpmath<1.4,>=1.1.0 in /home/ec2-user/anaconda3/envs/pytorch_p310/lib/python3.10/site-packages (from sympy->torch~=2.0->bitsandbytes) (1.3.0)\n",
      "Downloading bitsandbytes-0.45.1-py3-none-manylinux_2_24_x86_64.whl (69.7 MB)\n",
      "\u001b[2K   \u001b[90m━━━━━━━━━━━━━━━━━━━━━━━━━━━━━━━━━━━━━━━━\u001b[0m \u001b[32m69.7/69.7 MB\u001b[0m \u001b[31m124.2 MB/s\u001b[0m eta \u001b[36m0:00:00\u001b[0m00:01\u001b[0m00:01\u001b[0m\n",
      "Installing collected packages: bitsandbytes\n",
      "Successfully installed bitsandbytes-0.45.1\n",
      "/bin/sh: -c: line 1: syntax error: unexpected end of file\n",
      "Collecting peft\n",
      "  Downloading peft-0.14.0-py3-none-any.whl.metadata (13 kB)\n",
      "Requirement already satisfied: numpy>=1.17 in /home/ec2-user/anaconda3/envs/pytorch_p310/lib/python3.10/site-packages (from peft) (1.26.4)\n",
      "Requirement already satisfied: packaging>=20.0 in /home/ec2-user/anaconda3/envs/pytorch_p310/lib/python3.10/site-packages (from peft) (21.3)\n",
      "Requirement already satisfied: psutil in /home/ec2-user/anaconda3/envs/pytorch_p310/lib/python3.10/site-packages (from peft) (6.1.1)\n",
      "Requirement already satisfied: pyyaml in /home/ec2-user/anaconda3/envs/pytorch_p310/lib/python3.10/site-packages (from peft) (6.0.2)\n",
      "Requirement already satisfied: torch>=1.13.0 in /home/ec2-user/anaconda3/envs/pytorch_p310/lib/python3.10/site-packages (from peft) (2.2.2)\n",
      "Collecting transformers (from peft)\n",
      "  Downloading transformers-4.48.2-py3-none-any.whl.metadata (44 kB)\n",
      "Requirement already satisfied: tqdm in /home/ec2-user/anaconda3/envs/pytorch_p310/lib/python3.10/site-packages (from peft) (4.67.1)\n",
      "Requirement already satisfied: accelerate>=0.21.0 in /home/ec2-user/anaconda3/envs/pytorch_p310/lib/python3.10/site-packages (from peft) (1.3.0)\n",
      "Requirement already satisfied: safetensors in /home/ec2-user/anaconda3/envs/pytorch_p310/lib/python3.10/site-packages (from peft) (0.5.2)\n",
      "Requirement already satisfied: huggingface-hub>=0.25.0 in /home/ec2-user/anaconda3/envs/pytorch_p310/lib/python3.10/site-packages (from peft) (0.28.1)\n",
      "Requirement already satisfied: filelock in /home/ec2-user/anaconda3/envs/pytorch_p310/lib/python3.10/site-packages (from huggingface-hub>=0.25.0->peft) (3.16.1)\n",
      "Requirement already satisfied: fsspec>=2023.5.0 in /home/ec2-user/anaconda3/envs/pytorch_p310/lib/python3.10/site-packages (from huggingface-hub>=0.25.0->peft) (2024.12.0)\n",
      "Requirement already satisfied: requests in /home/ec2-user/anaconda3/envs/pytorch_p310/lib/python3.10/site-packages (from huggingface-hub>=0.25.0->peft) (2.32.3)\n",
      "Requirement already satisfied: typing-extensions>=3.7.4.3 in /home/ec2-user/anaconda3/envs/pytorch_p310/lib/python3.10/site-packages (from huggingface-hub>=0.25.0->peft) (4.12.2)\n",
      "Requirement already satisfied: pyparsing!=3.0.5,>=2.0.2 in /home/ec2-user/anaconda3/envs/pytorch_p310/lib/python3.10/site-packages (from packaging>=20.0->peft) (3.2.1)\n",
      "Requirement already satisfied: sympy in /home/ec2-user/anaconda3/envs/pytorch_p310/lib/python3.10/site-packages (from torch>=1.13.0->peft) (1.13.3)\n",
      "Requirement already satisfied: networkx in /home/ec2-user/anaconda3/envs/pytorch_p310/lib/python3.10/site-packages (from torch>=1.13.0->peft) (3.4.2)\n",
      "Requirement already satisfied: jinja2 in /home/ec2-user/anaconda3/envs/pytorch_p310/lib/python3.10/site-packages (from torch>=1.13.0->peft) (3.1.5)\n",
      "Collecting regex!=2019.12.17 (from transformers->peft)\n",
      "  Downloading regex-2024.11.6-cp310-cp310-manylinux_2_17_x86_64.manylinux2014_x86_64.whl.metadata (40 kB)\n",
      "Collecting tokenizers<0.22,>=0.21 (from transformers->peft)\n",
      "  Downloading tokenizers-0.21.0-cp39-abi3-manylinux_2_17_x86_64.manylinux2014_x86_64.whl.metadata (6.7 kB)\n",
      "Requirement already satisfied: MarkupSafe>=2.0 in /home/ec2-user/anaconda3/envs/pytorch_p310/lib/python3.10/site-packages (from jinja2->torch>=1.13.0->peft) (3.0.2)\n",
      "Requirement already satisfied: charset_normalizer<4,>=2 in /home/ec2-user/anaconda3/envs/pytorch_p310/lib/python3.10/site-packages (from requests->huggingface-hub>=0.25.0->peft) (3.4.1)\n",
      "Requirement already satisfied: idna<4,>=2.5 in /home/ec2-user/anaconda3/envs/pytorch_p310/lib/python3.10/site-packages (from requests->huggingface-hub>=0.25.0->peft) (3.10)\n",
      "Requirement already satisfied: urllib3<3,>=1.21.1 in /home/ec2-user/anaconda3/envs/pytorch_p310/lib/python3.10/site-packages (from requests->huggingface-hub>=0.25.0->peft) (2.3.0)\n",
      "Requirement already satisfied: certifi>=2017.4.17 in /home/ec2-user/anaconda3/envs/pytorch_p310/lib/python3.10/site-packages (from requests->huggingface-hub>=0.25.0->peft) (2024.12.14)\n",
      "Requirement already satisfied: mpmath<1.4,>=1.1.0 in /home/ec2-user/anaconda3/envs/pytorch_p310/lib/python3.10/site-packages (from sympy->torch>=1.13.0->peft) (1.3.0)\n",
      "Downloading peft-0.14.0-py3-none-any.whl (374 kB)\n",
      "Downloading transformers-4.48.2-py3-none-any.whl (9.7 MB)\n",
      "\u001b[2K   \u001b[90m━━━━━━━━━━━━━━━━━━━━━━━━━━━━━━━━━━━━━━━━\u001b[0m \u001b[32m9.7/9.7 MB\u001b[0m \u001b[31m117.2 MB/s\u001b[0m eta \u001b[36m0:00:00\u001b[0m\n",
      "\u001b[?25hDownloading regex-2024.11.6-cp310-cp310-manylinux_2_17_x86_64.manylinux2014_x86_64.whl (781 kB)\n",
      "\u001b[2K   \u001b[90m━━━━━━━━━━━━━━━━━━━━━━━━━━━━━━━━━━━━━━━━\u001b[0m \u001b[32m781.7/781.7 kB\u001b[0m \u001b[31m81.6 MB/s\u001b[0m eta \u001b[36m0:00:00\u001b[0m\n",
      "\u001b[?25hDownloading tokenizers-0.21.0-cp39-abi3-manylinux_2_17_x86_64.manylinux2014_x86_64.whl (3.0 MB)\n",
      "\u001b[2K   \u001b[90m━━━━━━━━━━━━━━━━━━━━━━━━━━━━━━━━━━━━━━━━\u001b[0m \u001b[32m3.0/3.0 MB\u001b[0m \u001b[31m144.4 MB/s\u001b[0m eta \u001b[36m0:00:00\u001b[0m\n",
      "Installing collected packages: regex, tokenizers, transformers, peft\n",
      "Successfully installed peft-0.14.0 regex-2024.11.6 tokenizers-0.21.0 transformers-4.48.2\n"
     ]
    }
   ],
   "source": [
    "!pip install 'accelerate>=0.26.0'\n",
    "!pip install bitsandbytes\n",
    "!pip install transformers|\n",
    "!pip install peft"
   ]
  },
  {
   "cell_type": "code",
   "execution_count": 2,
   "id": "2586902d-a265-45d6-930e-4be59a9b761a",
   "metadata": {},
   "outputs": [],
   "source": [
    "import torch\n",
    "import torch.nn as nn\n",
    "import numpy as np\n",
    "import pandas as pd\n",
    "import os\n",
    "import matplotlib.pyplot as plt\n",
    "import seaborn as sns\n",
    "from typing import Dict, Any, Tuple, List, Generator\n",
    "from sklearn.model_selection import train_test_split\n",
    "from sklearn.metrics import accuracy_score, precision_recall_fscore_support, log_loss, confusion_matrix, classification_report\n",
    "from peft import LoraConfig, get_peft_model, TaskType, prepare_model_for_kbit_training\n",
    "from dataclasses import dataclass\n",
    "from torch.utils.data import Dataset, IterableDataset\n",
    "from tqdm import tqdm\n",
    "import torch.nn.functional as F\n",
    "from transformers import (\n",
    "    AutoModelForCausalLM,\n",
    "    AutoTokenizer,\n",
    "    Trainer,\n",
    "    TrainingArguments,\n",
    "    AdamW, \n",
    "    get_linear_schedule_with_warmup,\n",
    "    AutoModelForSequenceClassification,\n",
    "    AutoConfig,\n",
    "    BitsAndBytesConfig,\n",
    "    EarlyStoppingCallback,\n",
    "    TrainerCallback\n",
    ")\n",
    "\n",
    "import os\n",
    "os.environ[\"TOKENIZERS_PARALLELISM\"] = \"false\"\n",
    "\n",
    "torch.backends.cuda.matmul.allow_tf32 = True\n",
    "torch.backends.cudnn.allow_tf32 = True"
   ]
  },
  {
   "cell_type": "code",
   "execution_count": 3,
   "id": "3abf22e5-4a9c-49a3-bea6-300d621f2f0c",
   "metadata": {},
   "outputs": [],
   "source": [
    "# Model Configuration\n",
    "@dataclass\n",
    "class ModelConfig:\n",
    "    model_name: str = \"Qwen/Qwen2.5-0.5B\"\n",
    "    # model_name: str = \"Qwen/Qwen2.5-1.5B\"\n",
    "    # model_name: str = \"deepseek-ai/DeepSeek-R1-Distill-Llama-8B\" \n",
    "    max_length: int = 2048\n",
    "    batch_size: int = 64\n",
    "    learning_rate: float = 1e-4\n",
    "    warmup_ratio: float = 0.1\n",
    "    num_epochs: int = 4\n",
    "    max_steps= 400\n",
    "    warmup_steps: int = 100\n",
    "    weight_decay: float = 0.01\n",
    "    output_dir: str = \"outputs\"\n",
    "    gradient_accumulation_steps: int = 2\n",
    "    logging_steps: int = 25\n",
    "    save_steps: int = 100\n",
    "    eval_steps: int = 100\n",
    "    torch_dtype: str = \"bfloat16\"  # change from \"bfloat16\" to \"float16\"\n",
    "    use_flash_attention: bool = True"
   ]
  },
  {
   "cell_type": "code",
   "execution_count": 4,
   "id": "85ef8e2c-28d5-40e5-b4c4-9c9c686d8744",
   "metadata": {},
   "outputs": [],
   "source": [
    "def evaluate_and_visualize(trainer, dataset, dataset_name=\"\"):\n",
    "    # Get predictions\n",
    "    predictions = trainer.predict(dataset)\n",
    "    pred_labels = np.argmax(predictions.predictions, axis=1)\n",
    "    true_labels = predictions.label_ids\n",
    "    \n",
    "    # Create confusion matrix\n",
    "    cm = confusion_matrix(true_labels, pred_labels)\n",
    "    \n",
    "    # Plot confusion matrix\n",
    "    plt.figure(figsize=(8, 6))\n",
    "    sns.heatmap(cm, annot=True, fmt='d', cmap='Blues')\n",
    "    plt.title(f'Confusion Matrix - {dataset_name}')\n",
    "    plt.ylabel('True Label')\n",
    "    plt.xlabel('Predicted Label')\n",
    "    plt.show()\n",
    "    \n",
    "    # Print classification report\n",
    "    print(f\"\\nClassification Report - {dataset_name}\")\n",
    "    print(classification_report(true_labels, pred_labels))\n",
    "    \n",
    "    return predictions.metrics\n",
    "\n",
    "\n",
    "# Dataset Processing\n",
    "class DatasetProcessor:\n",
    "    def __init__(self, tokenizer_name: str, max_length: int, drop_long_sequences: bool = False):\n",
    "        \"\"\"\n",
    "        Initialize DatasetProcessor with option to drop long sequences\n",
    "        \n",
    "        Args:\n",
    "            tokenizer_name (str): Name of the tokenizer to use\n",
    "            max_length (int): Maximum sequence length\n",
    "            drop_long_sequences (bool): If True, drop samples exceeding max_length\n",
    "        \"\"\"\n",
    "        self.tokenizer = AutoTokenizer.from_pretrained(tokenizer_name)\n",
    "        self.max_length = max_length\n",
    "        self.separator = \"\\n\\n###\\n\\n\"\n",
    "        self.drop_long_sequences = drop_long_sequences\n",
    "    \n",
    "    def construct_prompt(self, row: pd.Series) -> str:\n",
    "        return f\"{row['prompt']}{self.separator}{row['response_a']}{self.separator}{row['response_b']}{self.separator}Choose which model response is preferred:\"\n",
    "    \n",
    "    def get_label(self, row: pd.Series) -> int:\n",
    "        return 2 if row['winner_tie'] == 1 else (1 if row['winner_model_b'] == 1 else 0)\n",
    "    \n",
    "    def check_sequence_length(self, prompt: str) -> bool:\n",
    "        \"\"\"\n",
    "        Check if the sequence length is within the maximum limit\n",
    "        \n",
    "        Args:\n",
    "            prompt (str): The input prompt to check\n",
    "            \n",
    "        Returns:\n",
    "            bool: True if sequence is within limit, False otherwise\n",
    "        \"\"\"\n",
    "        tokens = self.tokenizer(prompt, truncation=False)['input_ids']\n",
    "        return len(tokens) <= self.max_length\n",
    "    \n",
    "    \n",
    "    def pre_tokenize_data(self, df: pd.DataFrame) -> List[Dict[str, torch.Tensor]]:\n",
    "        tokenized_data = []\n",
    "        \n",
    "        # Create a tqdm progress bar\n",
    "        progress_bar = tqdm(\n",
    "            total=len(df), \n",
    "            desc=\"Tokenizing Dataset\", \n",
    "            unit=\"sample\",\n",
    "            dynamic_ncols=True\n",
    "        )\n",
    "        \n",
    "        for _, row in df.iterrows():\n",
    "            prompt = self.construct_prompt(row)\n",
    "            label = self.get_label(row)\n",
    "            \n",
    "            encoding = self.tokenizer(\n",
    "                prompt,\n",
    "                padding=\"max_length\",\n",
    "                truncation=True,\n",
    "                max_length=self.max_length,\n",
    "                return_tensors=\"pt\"\n",
    "            )\n",
    "            \n",
    "            tokenized_data.append({\n",
    "                \"input_ids\": encoding[\"input_ids\"].squeeze(0),\n",
    "                \"attention_mask\": encoding[\"attention_mask\"].squeeze(0),\n",
    "                \"labels\": torch.tensor(label, dtype=torch.long)\n",
    "            })\n",
    "            \n",
    "            # Update progress bar\n",
    "            progress_bar.update(1)\n",
    "            \n",
    "            # Optional: Add some metadata to the progress bar\n",
    "            progress_bar.set_postfix({\n",
    "                'prompt_length': len(prompt),\n",
    "                'input_ids_shape': encoding[\"input_ids\"].shape\n",
    "            })\n",
    "        \n",
    "        # Close the progress bar\n",
    "        progress_bar.close()\n",
    "        \n",
    "        return tokenized_data\n",
    "\n",
    "class PreTokenizedDataset(Dataset):\n",
    "    def __init__(self, tokenized_data):\n",
    "        self.tokenized_data = tokenized_data\n",
    "    \n",
    "    def __len__(self):\n",
    "        return len(self.tokenized_data)\n",
    "    \n",
    "    def __getitem__(self, idx):\n",
    "        return self.tokenized_data[idx]\n",
    "\n",
    "class PreTokenizedDataset(Dataset):\n",
    "    def __init__(self, tokenized_data):\n",
    "        self.tokenized_data = tokenized_data\n",
    "    \n",
    "    def __len__(self):\n",
    "        return len(self.tokenized_data)\n",
    "    \n",
    "    def __getitem__(self, idx):\n",
    "        item = self.tokenized_data[idx]\n",
    "        # Squeeze out unnecessary dimensions\n",
    "        return {\n",
    "            'input_ids': item['input_ids'].squeeze(),\n",
    "            'attention_mask': item['attention_mask'].squeeze(),\n",
    "            'labels': item['labels'].squeeze()\n",
    "        }\n",
    "\n",
    "\n",
    "def load_model(model_name: str, torch_dtype: str):  # Removed rope_scaling argument\n",
    "    \"\"\"Loads the model with 8-bit quantization and flash attention (if available).\"\"\"\n",
    "\n",
    "    bnb_config = BitsAndBytesConfig(\n",
    "        load_in_4bit=True,  # Use 4-bit instead of 8-bit\n",
    "        bnb_4bit_compute_dtype=torch.bfloat16,\n",
    "        bnb_4bit_use_double_quant=True,\n",
    "        bnb_4bit_quant_type=\"nf4\"\n",
    "    )\n",
    "\n",
    "    # bnb_config = BitsAndBytesConfig(\n",
    "    # load_in_8bit=True,  # Use 8-bit instead of 4-bit\n",
    "    # bnb_8bit_compute_dtype=torch.bfloat16\n",
    "    # )\n",
    "\n",
    "\n",
    "    model = AutoModelForSequenceClassification.from_pretrained(\n",
    "    model_name,\n",
    "    num_labels=3,  # 3-class classification\n",
    "    torch_dtype=torch.bfloat16, \n",
    "    # quantization_config=bnb_config,\n",
    "    )\n",
    "    \n",
    "    # model = prepare_model_for_kbit_training(model)\n",
    "    model.to(\"cuda\")\n",
    "    model.gradient_checkpointing_enable()\n",
    "    # model.gradient_checkpointing_disable()\n",
    "    return model\n",
    "\n",
    "def apply_peft_with_dora(model):\n",
    "    \"\"\"\n",
    "    Apply DoRA (Decoupled LoRA) using PEFT for fine-tuning the quantized model.\n",
    "    \"\"\"\n",
    "    lora_config = LoraConfig(\n",
    "        task_type=TaskType.SEQ_CLS,\n",
    "        r=8,  # Increased rank\n",
    "        lora_alpha=16,\n",
    "        lora_dropout=0.05,\n",
    "        target_modules=[\"q_proj\", \"k_proj\", \"v_proj\", \"o_proj\"],  # Added k_proj and o_proj\n",
    "        init_lora_weights=\"gaussian\"  # Better initialization\n",
    "    )\n",
    "    \n",
    "    model = get_peft_model(model, lora_config)\n",
    "    # Manually initialize LoRA weights\n",
    "    for name, module in model.named_modules():  \n",
    "        if \"lora_A\" in name and \"default\" in name:  \n",
    "            nn.init.xavier_uniform_(module.weight) \n",
    "        elif \"lora_B\" in name and \"default\" in name:  \n",
    "            nn.init.zeros_(module.weight)\n",
    "    \n",
    "    model.print_trainable_parameters()  # Ensure correct setup\n",
    "    return model\n",
    "\n",
    "\n",
    "\n",
    "def compute_metrics(eval_pred):\n",
    "    logits, labels = eval_pred\n",
    "    predictions = np.argmax(logits, axis=-1)\n",
    "    \n",
    "    # Apply label smoothing\n",
    "    smoothed_labels = torch.zeros_like(torch.tensor(logits))\n",
    "    smoothed_labels.scatter_(1, torch.tensor(labels).unsqueeze(1), 1)\n",
    "    smoothed_labels = smoothed_labels * 0.9 + 0.1 / smoothed_labels.size(1)\n",
    "    \n",
    "    # Compute loss with label smoothing\n",
    "    loss = F.cross_entropy(\n",
    "        torch.tensor(logits), \n",
    "        smoothed_labels,\n",
    "        reduction='mean'\n",
    "    ).item()\n",
    "    \n",
    "    accuracy = accuracy_score(labels, predictions)\n",
    "    precision, recall, f1, _ = precision_recall_fscore_support(labels, predictions, average='weighted')\n",
    "\n",
    "    return {\n",
    "        'cross_entropy_loss': loss,\n",
    "        'accuracy': accuracy,\n",
    "        'precision': precision,\n",
    "        'recall': recall,\n",
    "        'f1': f1\n",
    "    }\n"
   ]
  },
  {
   "cell_type": "code",
   "execution_count": 5,
   "id": "88ba1f27-5b5a-4241-987f-4473b2485b4f",
   "metadata": {
    "scrolled": true
   },
   "outputs": [
    {
     "data": {
      "application/vnd.jupyter.widget-view+json": {
       "model_id": "65d4a91034824c53bc70503a03c6eea3",
       "version_major": 2,
       "version_minor": 0
      },
      "text/plain": [
       "tokenizer_config.json:   0%|          | 0.00/7.23k [00:00<?, ?B/s]"
      ]
     },
     "metadata": {},
     "output_type": "display_data"
    },
    {
     "data": {
      "application/vnd.jupyter.widget-view+json": {
       "model_id": "279b496ca38e47aa8a2e4d7d4e7a8074",
       "version_major": 2,
       "version_minor": 0
      },
      "text/plain": [
       "vocab.json:   0%|          | 0.00/2.78M [00:00<?, ?B/s]"
      ]
     },
     "metadata": {},
     "output_type": "display_data"
    },
    {
     "data": {
      "application/vnd.jupyter.widget-view+json": {
       "model_id": "65add9d9197f4b6ea255d4f1618db5e6",
       "version_major": 2,
       "version_minor": 0
      },
      "text/plain": [
       "merges.txt:   0%|          | 0.00/1.67M [00:00<?, ?B/s]"
      ]
     },
     "metadata": {},
     "output_type": "display_data"
    },
    {
     "data": {
      "application/vnd.jupyter.widget-view+json": {
       "model_id": "df74e035995945c2ba70642f5d276a76",
       "version_major": 2,
       "version_minor": 0
      },
      "text/plain": [
       "tokenizer.json:   0%|          | 0.00/7.03M [00:00<?, ?B/s]"
      ]
     },
     "metadata": {},
     "output_type": "display_data"
    },
    {
     "data": {
      "application/vnd.jupyter.widget-view+json": {
       "model_id": "a52146f44e8c464d9a7c45c2fb51d1c7",
       "version_major": 2,
       "version_minor": 0
      },
      "text/plain": [
       "config.json:   0%|          | 0.00/681 [00:00<?, ?B/s]"
      ]
     },
     "metadata": {},
     "output_type": "display_data"
    },
    {
     "data": {
      "application/vnd.jupyter.widget-view+json": {
       "model_id": "8e58a34ded7c4457a11e4fe66f90ebb6",
       "version_major": 2,
       "version_minor": 0
      },
      "text/plain": [
       "model.safetensors:   0%|          | 0.00/988M [00:00<?, ?B/s]"
      ]
     },
     "metadata": {},
     "output_type": "display_data"
    },
    {
     "name": "stderr",
     "output_type": "stream",
     "text": [
      "Some weights of Qwen2ForSequenceClassification were not initialized from the model checkpoint at Qwen/Qwen2.5-0.5B and are newly initialized: ['score.weight']\n",
      "You should probably TRAIN this model on a down-stream task to be able to use it for predictions and inference.\n"
     ]
    },
    {
     "name": "stdout",
     "output_type": "stream",
     "text": [
      "trainable params: 1,084,032 || all params: 495,119,488 || trainable%: 0.2189\n",
      "Trainable params: 1086720 / 495119488 (0.22%)\n"
     ]
    }
   ],
   "source": [
    "# Training Setup\n",
    "config = ModelConfig()\n",
    "tokenizer = AutoTokenizer.from_pretrained(config.model_name, trust_remote_code=True)\n",
    "tokenizer.pad_token = tokenizer.eos_token  # ✅ Use EOS as padding token\n",
    "model = load_model(config.model_name, config.torch_dtype)\n",
    "model.config.pad_token_id = tokenizer.pad_token_id  # ✅ Ensure model recognizes it\n",
    "model = apply_peft_with_dora(model)\n",
    "\n",
    "# Make the classification head trainable\n",
    "for name, param in model.named_parameters():\n",
    "    if \"score\" in name:\n",
    "        param.requires_grad = True\n",
    "        # print(f\"Trainable: {name}\")\n",
    "\n",
    "# Ensure all LoRA parameters are trainable\n",
    "for name, param in model.named_parameters():\n",
    "    if \"lora\" in name:\n",
    "        param.requires_grad = True\n",
    "        # print(f\"Ensuring trainability: {name}\")\n",
    "\n",
    "# Verify trainable parameters\n",
    "trainable_params = sum(p.numel() for p in model.parameters() if p.requires_grad)\n",
    "total_params = sum(p.numel() for p in model.parameters())\n",
    "print(f\"Trainable params: {trainable_params} / {total_params} ({trainable_params/total_params*100:.2f}%)\")"
   ]
  },
  {
   "cell_type": "code",
   "execution_count": 6,
   "id": "b19f8a4d-985e-48bf-ade1-480b9ede5897",
   "metadata": {},
   "outputs": [],
   "source": [
    "dataset_processor = DatasetProcessor(config.model_name, config.max_length)"
   ]
  },
  {
   "cell_type": "code",
   "execution_count": 7,
   "id": "cc2ad687-3873-459f-a68b-fffee37c4085",
   "metadata": {
    "scrolled": true
   },
   "outputs": [
    {
     "name": "stderr",
     "output_type": "stream",
     "text": [
      "Tokenizing Dataset: 100%|██████████| 48855/48855 [03:39<00:00, 222.71sample/s, prompt_length=4406, input_ids_shape=torch.Size([1, 2048])] \n",
      "Tokenizing Dataset: 100%|██████████| 4311/4311 [00:20<00:00, 211.57sample/s, prompt_length=4928, input_ids_shape=torch.Size([1, 2048])] \n",
      "Tokenizing Dataset: 100%|██████████| 4311/4311 [00:20<00:00, 210.29sample/s, prompt_length=4928, input_ids_shape=torch.Size([1, 2048])] \n"
     ]
    }
   ],
   "source": [
    "dataset_processor = DatasetProcessor(config.model_name, config.max_length)\n",
    "df = pd.read_csv(\"data/train.csv\")\n",
    "train_df, val_df = train_test_split(df, test_size=0.15, random_state=42)\n",
    "val_df, test_df = train_test_split(val_df, test_size=0.5, random_state=42)\n",
    "\n",
    "# #sample\n",
    "# train_df = train_df.iloc[1100:1200]\n",
    "# val_df = val_df.head(100)\n",
    "# test_df = test_df.head(100)\n",
    "\n",
    "# Pre-tokenize the data\n",
    "train_tokenized = dataset_processor.pre_tokenize_data(train_df)\n",
    "val_tokenized = dataset_processor.pre_tokenize_data(val_df)\n",
    "test_tokenized = dataset_processor.pre_tokenize_data(val_df)\n",
    "\n",
    "# Create PyTorch datasets\n",
    "train_dataset = PreTokenizedDataset(train_tokenized)\n",
    "eval_dataset = PreTokenizedDataset(val_tokenized)\n",
    "test_dataset = PreTokenizedDataset(test_tokenized)"
   ]
  },
  {
   "cell_type": "code",
   "execution_count": 8,
   "id": "b244d426-ab94-4f88-92f6-b7f87a867f0f",
   "metadata": {},
   "outputs": [],
   "source": [
    "training_args = TrainingArguments(\n",
    "    output_dir=config.output_dir,\n",
    "    num_train_epochs=config.num_epochs,\n",
    "    per_device_train_batch_size=config.batch_size,\n",
    "    per_device_eval_batch_size=config.batch_size,\n",
    "    learning_rate=config.learning_rate,\n",
    "    weight_decay=config.weight_decay,\n",
    "    logging_steps=config.logging_steps,\n",
    "    save_steps=config.save_steps,\n",
    "    warmup_ratio=config.warmup_ratio,\n",
    "    lr_scheduler_type=\"cosine_with_restarts\",\n",
    "    gradient_accumulation_steps=config.gradient_accumulation_steps,\n",
    "    eval_strategy=\"steps\",  # Evaluate every epoch\n",
    "    save_strategy=\"steps\",  # Save every epoch\n",
    "    eval_steps=config.eval_steps,\n",
    "    max_steps=config.max_steps,\n",
    "    bf16=True,\n",
    "    fp16=False,\n",
    "    # gradient_checkpointing=False,\n",
    "    save_total_limit=2,\n",
    "    dataloader_num_workers=4,\n",
    "    remove_unused_columns=False,\n",
    "    logging_dir=f\"{config.output_dir}/logs\",\n",
    "    logging_strategy=\"steps\",\n",
    "    load_best_model_at_end=True,\n",
    "    metric_for_best_model=\"eval_cross_entropy_loss\",\n",
    "    greater_is_better=False,\n",
    "    max_grad_norm=0.5,\n",
    "    group_by_length=True,\n",
    "    bf16_full_eval=True,\n",
    "    # lr_scheduler_type=\"cosine\",\n",
    ")"
   ]
  },
  {
   "cell_type": "code",
   "execution_count": 9,
   "id": "9ea20ebe-2686-496a-b387-53517072e5c4",
   "metadata": {},
   "outputs": [
    {
     "name": "stderr",
     "output_type": "stream",
     "text": [
      "/home/ec2-user/anaconda3/envs/pytorch_p310/lib/python3.10/site-packages/transformers/optimization.py:591: FutureWarning: This implementation of AdamW is deprecated and will be removed in a future version. Use the PyTorch implementation torch.optim.AdamW instead, or set `no_deprecation_warning=True` to disable this warning\n",
      "  warnings.warn(\n"
     ]
    }
   ],
   "source": [
    "class SimpleLoggingCallback(TrainerCallback):\n",
    "    def __init__(self, log_file=None):\n",
    "        self.log_file = log_file\n",
    "        self.log_entries = []\n",
    "\n",
    "    def _log(self, message):\n",
    "        print(message)\n",
    "        if self.log_file:\n",
    "            self.log_entries.append(message)\n",
    "\n",
    "    def on_train_begin(self, args, state, control, **kwargs):\n",
    "        self._log(\"\\n--- Training Started ---\")\n",
    "        self._log(f\"Total Training Steps: {state.max_steps}\")\n",
    "        self._log(f\"Batch Size: {args.per_device_train_batch_size}\")\n",
    "        self._log(f\"Gradient Accumulation Steps: {args.gradient_accumulation_steps}\")\n",
    "        self._log(f\"Learning Rate: {args.learning_rate}\")\n",
    "\n",
    "    def on_log(self, args, state, control, logs=None, **kwargs):\n",
    "        if logs:\n",
    "            log_str = \" | \".join([f\"{k}: {v:.4f}\" for k, v in logs.items() if isinstance(v, (int, float))])\n",
    "            self._log(f\"Step {state.global_step}: {log_str}\")\n",
    "\n",
    "    def on_train_end(self, args, state, control, **kwargs):\n",
    "        self._log(\"\\n--- Training Completed ---\")\n",
    "        if self.log_file:\n",
    "            with open(self.log_file, 'w') as f:\n",
    "                f.write(\"\\n\".join(self.log_entries))\n",
    "\n",
    "# Create the early stopping callback\n",
    "early_stopping_callback = EarlyStoppingCallback(\n",
    "    early_stopping_patience=3,  # Number of evaluations to wait for improvement\n",
    "    early_stopping_threshold=0.01  # Minimum change to qualify as an improvement\n",
    ")\n",
    "\n",
    "class GradientLoggingCallback(TrainerCallback):\n",
    "    def on_step_end(self, args, state, control, model=None, **kwargs):\n",
    "        total_norm = 0.0\n",
    "        for name, p in model.named_parameters():\n",
    "            if p.requires_grad and p.grad is not None:\n",
    "                total_norm += p.grad.data.norm(2).item() ** 2\n",
    "        total_norm = total_norm ** 0.5\n",
    "        print(f\"Step {state.global_step} - Gradient Norm: {total_norm:.4f}\")\n",
    "\n",
    "\n",
    "class VerboseGradientLoggingCallback(TrainerCallback):\n",
    "    def on_step_end(self, args, state, control, model=None, **kwargs):\n",
    "        total_norm = 0.0\n",
    "        max_norm = 0.0\n",
    "        for name, p in model.named_parameters():\n",
    "            if p.requires_grad and p.grad is not None:\n",
    "                param_norm = p.grad.data.norm(2).item()\n",
    "                total_norm += param_norm ** 2\n",
    "                max_norm = max(max_norm, param_norm)\n",
    "                \n",
    "                # Detailed logging for LoRA and score parameters\n",
    "                if \"lora\" in name or \"score\" in name:\n",
    "                    print(f\"{name} - Grad Norm: {param_norm:.6f}\")\n",
    "        \n",
    "        total_norm = total_norm ** 0.5\n",
    "        print(f\"Step {state.global_step} - Total Gradient Norm: {total_norm:.4f}, Max Norm: {max_norm:.4f}\")\n",
    "ƒ\n",
    "optimizer_grouped_parameters = [\n",
    "    {\n",
    "        \"params\": [p for n, p in model.named_parameters() \n",
    "                   if p.requires_grad and (\"lora\" in n or \"score\" in n)],\n",
    "        \"lr\": config.learning_rate * 8,  # e.g., 10x higher for LoRA/head\n",
    "        \"weight_decay\": config.weight_decay\n",
    "    },\n",
    "    {\n",
    "        \"params\": [p for n, p in model.named_parameters() \n",
    "                   if p.requires_grad and (\"lora\" not in n and \"score\" not in n)],\n",
    "        \"lr\": config.learning_rate,\n",
    "        \"weight_decay\": 0.0,\n",
    "    },\n",
    "]\n",
    "\n",
    "optimizer = AdamW(optimizer_grouped_parameters, \n",
    "                  lr=config.learning_rate, \n",
    "                  betas=(0.9, 0.999),\n",
    "                  eps=1e-8, \n",
    "                  correct_bias=True)\n",
    "\n",
    "# scheduler = get_linear_schedule_with_warmup(\n",
    "#     optimizer,\n",
    "#     num_warmup_steps=config.warmup_steps,\n",
    "#     num_training_steps=training_args.max_steps,\n",
    "# )"
   ]
  },
  {
   "cell_type": "code",
   "execution_count": 10,
   "id": "a999def2-fd90-4aac-a6dd-353596f0c0ad",
   "metadata": {},
   "outputs": [],
   "source": [
    "trainer = Trainer(\n",
    "    model=model,\n",
    "    args=training_args,\n",
    "    train_dataset=train_dataset,\n",
    "    eval_dataset=eval_dataset,\n",
    "    compute_metrics=compute_metrics,\n",
    "    optimizers=(optimizer, None),  # Use our custom optimizer and scheduler\n",
    "    callbacks=[early_stopping_callback, GradientDiagnosticCallback, SimpleLoggingCallback(log_file=f\"{config.output_dir}/training_log.txt\")]\n",
    ")"
   ]
  },
  {
   "cell_type": "code",
   "execution_count": 11,
   "id": "ecd8fd3b-7dfe-40a5-a426-e81519b5badd",
   "metadata": {},
   "outputs": [
    {
     "name": "stdout",
     "output_type": "stream",
     "text": [
      "\n",
      "--- Training Started ---\n",
      "Total Training Steps: 400\n",
      "Batch Size: 64\n",
      "Gradient Accumulation Steps: 2\n",
      "Learning Rate: 0.0001\n"
     ]
    },
    {
     "name": "stderr",
     "output_type": "stream",
     "text": [
      "`use_cache=True` is incompatible with gradient checkpointing. Setting `use_cache=False`.\n"
     ]
    },
    {
     "data": {
      "text/html": [
       "\n",
       "    <div>\n",
       "      \n",
       "      <progress value='400' max='400' style='width:300px; height:20px; vertical-align: middle;'></progress>\n",
       "      [400/400 3:21:36, Epoch 1/2]\n",
       "    </div>\n",
       "    <table border=\"1\" class=\"dataframe\">\n",
       "  <thead>\n",
       " <tr style=\"text-align: left;\">\n",
       "      <th>Step</th>\n",
       "      <th>Training Loss</th>\n",
       "      <th>Validation Loss</th>\n",
       "      <th>Cross Entropy Loss</th>\n",
       "      <th>Accuracy</th>\n",
       "      <th>Precision</th>\n",
       "      <th>Recall</th>\n",
       "      <th>F1</th>\n",
       "      <th>Runtime</th>\n",
       "      <th>Samples Per Second</th>\n",
       "      <th>Steps Per Second</th>\n",
       "    </tr>\n",
       "  </thead>\n",
       "  <tbody>\n",
       "    <tr>\n",
       "      <td>100</td>\n",
       "      <td>1.220200</td>\n",
       "      <td>1.129801</td>\n",
       "      <td>1.135357</td>\n",
       "      <td>0.398747</td>\n",
       "      <td>0.459583</td>\n",
       "      <td>0.398747</td>\n",
       "      <td>0.336340</td>\n",
       "      <td>239.231000</td>\n",
       "      <td>18.020000</td>\n",
       "      <td>0.284000</td>\n",
       "    </tr>\n",
       "    <tr>\n",
       "      <td>200</td>\n",
       "      <td>1.110600</td>\n",
       "      <td>1.171709</td>\n",
       "      <td>1.178256</td>\n",
       "      <td>0.389469</td>\n",
       "      <td>0.604092</td>\n",
       "      <td>0.389469</td>\n",
       "      <td>0.306476</td>\n",
       "      <td>238.893800</td>\n",
       "      <td>18.046000</td>\n",
       "      <td>0.285000</td>\n",
       "    </tr>\n",
       "    <tr>\n",
       "      <td>300</td>\n",
       "      <td>1.063000</td>\n",
       "      <td>1.029510</td>\n",
       "      <td>1.042931</td>\n",
       "      <td>0.468569</td>\n",
       "      <td>0.479805</td>\n",
       "      <td>0.468569</td>\n",
       "      <td>0.451392</td>\n",
       "      <td>238.956500</td>\n",
       "      <td>18.041000</td>\n",
       "      <td>0.285000</td>\n",
       "    </tr>\n",
       "    <tr>\n",
       "      <td>400</td>\n",
       "      <td>1.022000</td>\n",
       "      <td>1.012569</td>\n",
       "      <td>1.029379</td>\n",
       "      <td>0.494549</td>\n",
       "      <td>0.492071</td>\n",
       "      <td>0.494549</td>\n",
       "      <td>0.489417</td>\n",
       "      <td>238.907500</td>\n",
       "      <td>18.045000</td>\n",
       "      <td>0.285000</td>\n",
       "    </tr>\n",
       "  </tbody>\n",
       "</table><p>"
      ],
      "text/plain": [
       "<IPython.core.display.HTML object>"
      ]
     },
     "metadata": {},
     "output_type": "display_data"
    },
    {
     "name": "stdout",
     "output_type": "stream",
     "text": [
      "\n",
      "Step 25:\n",
      "Total Gradient Norm: 0.0000\n",
      "Step 25: loss: 1.7327 | grad_norm: 127.5998 | learning_rate: 0.0005 | epoch: 0.0654\n",
      "\n",
      "Step 50:\n",
      "Total Gradient Norm: 0.0000\n",
      "Step 50: loss: 1.4087 | grad_norm: 48.8651 | learning_rate: 0.0008 | epoch: 0.1309\n",
      "\n",
      "Step 75:\n",
      "Total Gradient Norm: 0.0000\n",
      "Step 75: loss: 1.2117 | grad_norm: 10.9230 | learning_rate: 0.0008 | epoch: 0.1963\n",
      "\n",
      "Step 100:\n",
      "Total Gradient Norm: 0.0000\n"
     ]
    },
    {
     "name": "stderr",
     "output_type": "stream",
     "text": [
      "Trainer.tokenizer is now deprecated. You should use Trainer.processing_class instead.\n"
     ]
    },
    {
     "name": "stdout",
     "output_type": "stream",
     "text": [
      "Step 100: loss: 1.2202 | grad_norm: 17.0910 | learning_rate: 0.0007 | epoch: 0.2618\n",
      "Step 100: eval_loss: 1.1298 | eval_cross_entropy_loss: 1.1354 | eval_accuracy: 0.3987 | eval_precision: 0.4596 | eval_recall: 0.3987 | eval_f1: 0.3363 | eval_runtime: 239.2310 | eval_samples_per_second: 18.0200 | eval_steps_per_second: 0.2840 | epoch: 0.2618\n",
      "\n",
      "Step 125:\n",
      "Total Gradient Norm: 0.0000\n",
      "Step 125: loss: 1.1820 | grad_norm: 27.9020 | learning_rate: 0.0007 | epoch: 0.3272\n",
      "\n",
      "Step 150:\n",
      "Total Gradient Norm: 0.0000\n",
      "Step 150: loss: 1.1549 | grad_norm: 14.5365 | learning_rate: 0.0006 | epoch: 0.3927\n",
      "\n",
      "Step 175:\n",
      "Total Gradient Norm: 0.0000\n",
      "Step 175: loss: 1.1354 | grad_norm: 14.7437 | learning_rate: 0.0006 | epoch: 0.4581\n",
      "\n",
      "Step 200:\n",
      "Total Gradient Norm: 0.0000\n"
     ]
    },
    {
     "name": "stderr",
     "output_type": "stream",
     "text": [
      "Trainer.tokenizer is now deprecated. You should use Trainer.processing_class instead.\n"
     ]
    },
    {
     "name": "stdout",
     "output_type": "stream",
     "text": [
      "Step 200: loss: 1.1106 | grad_norm: 25.7244 | learning_rate: 0.0005 | epoch: 0.5236\n",
      "Step 200: eval_loss: 1.1717 | eval_cross_entropy_loss: 1.1783 | eval_accuracy: 0.3895 | eval_precision: 0.6041 | eval_recall: 0.3895 | eval_f1: 0.3065 | eval_runtime: 238.8938 | eval_samples_per_second: 18.0460 | eval_steps_per_second: 0.2850 | epoch: 0.5236\n",
      "\n",
      "Step 225:\n",
      "Total Gradient Norm: 0.0000\n",
      "Step 225: loss: 1.0948 | grad_norm: 5.3063 | learning_rate: 0.0004 | epoch: 0.5890\n",
      "\n",
      "Step 250:\n",
      "Total Gradient Norm: 0.0000\n",
      "Step 250: loss: 1.0599 | grad_norm: 7.3149 | learning_rate: 0.0003 | epoch: 0.6545\n",
      "\n",
      "Step 275:\n",
      "Total Gradient Norm: 0.0000\n",
      "Step 275: loss: 1.0613 | grad_norm: 8.8985 | learning_rate: 0.0002 | epoch: 0.7199\n",
      "\n",
      "Step 300:\n",
      "Total Gradient Norm: 0.0000\n"
     ]
    },
    {
     "name": "stderr",
     "output_type": "stream",
     "text": [
      "Trainer.tokenizer is now deprecated. You should use Trainer.processing_class instead.\n"
     ]
    },
    {
     "name": "stdout",
     "output_type": "stream",
     "text": [
      "Step 300: loss: 1.0630 | grad_norm: 3.5175 | learning_rate: 0.0001 | epoch: 0.7853\n",
      "Step 300: eval_loss: 1.0295 | eval_cross_entropy_loss: 1.0429 | eval_accuracy: 0.4686 | eval_precision: 0.4798 | eval_recall: 0.4686 | eval_f1: 0.4514 | eval_runtime: 238.9565 | eval_samples_per_second: 18.0410 | eval_steps_per_second: 0.2850 | epoch: 0.7853\n",
      "\n",
      "Step 325:\n",
      "Total Gradient Norm: 0.0000\n",
      "Step 325: loss: 1.0251 | grad_norm: 2.1096 | learning_rate: 0.0001 | epoch: 0.8508\n",
      "\n",
      "Step 350:\n",
      "Total Gradient Norm: 0.0000\n",
      "Step 350: loss: 1.0328 | grad_norm: 6.4460 | learning_rate: 0.0000 | epoch: 0.9162\n",
      "\n",
      "Step 375:\n",
      "Total Gradient Norm: 0.0000\n",
      "Step 375: loss: 1.0140 | grad_norm: 4.3691 | learning_rate: 0.0000 | epoch: 0.9817\n",
      "\n",
      "Step 400:\n",
      "Total Gradient Norm: 0.0000\n"
     ]
    },
    {
     "name": "stderr",
     "output_type": "stream",
     "text": [
      "Trainer.tokenizer is now deprecated. You should use Trainer.processing_class instead.\n"
     ]
    },
    {
     "name": "stdout",
     "output_type": "stream",
     "text": [
      "Step 400: loss: 1.0220 | grad_norm: 2.2826 | learning_rate: 0.0000 | epoch: 1.0471\n",
      "Step 400: eval_loss: 1.0126 | eval_cross_entropy_loss: 1.0294 | eval_accuracy: 0.4945 | eval_precision: 0.4921 | eval_recall: 0.4945 | eval_f1: 0.4894 | eval_runtime: 238.9075 | eval_samples_per_second: 18.0450 | eval_steps_per_second: 0.2850 | epoch: 1.0471\n",
      "Step 400: train_runtime: 12152.8384 | train_samples_per_second: 4.2130 | train_steps_per_second: 0.0330 | total_flos: 225672868089298944.0000 | train_loss: 1.1581 | epoch: 1.0471\n",
      "\n",
      "--- Training Completed ---\n"
     ]
    },
    {
     "data": {
      "text/plain": [
       "TrainOutput(global_step=400, training_loss=1.1580684566497803, metrics={'train_runtime': 12152.8384, 'train_samples_per_second': 4.213, 'train_steps_per_second': 0.033, 'total_flos': 2.2567286808929894e+17, 'train_loss': 1.1580684566497803, 'epoch': 1.0471204188481675})"
      ]
     },
     "execution_count": 11,
     "metadata": {},
     "output_type": "execute_result"
    }
   ],
   "source": [
    "torch.cuda.empty_cache()\n",
    "trainer.train()"
   ]
  },
  {
   "cell_type": "code",
   "execution_count": 12,
   "id": "d8c6af26-9fe5-4748-a9a7-3db591976f0e",
   "metadata": {},
   "outputs": [
    {
     "name": "stderr",
     "output_type": "stream",
     "text": [
      "Trainer.tokenizer is now deprecated. You should use Trainer.processing_class instead.\n"
     ]
    },
    {
     "data": {
      "text/html": [],
      "text/plain": [
       "<IPython.core.display.HTML object>"
      ]
     },
     "metadata": {},
     "output_type": "display_data"
    },
    {
     "name": "stdout",
     "output_type": "stream",
     "text": [
      "Step 400: eval_loss: 1.0124 | eval_cross_entropy_loss: 1.0292 | eval_accuracy: 0.4957 | eval_precision: 0.4934 | eval_recall: 0.4957 | eval_f1: 0.4906 | eval_runtime: 220.3176 | eval_samples_per_second: 19.5670 | eval_steps_per_second: 0.3090 | epoch: 1.0471\n",
      "Final evaluation results: {'eval_loss': 1.012424111366272, 'eval_cross_entropy_loss': 1.0292150974273682, 'eval_accuracy': 0.4957086522848527, 'eval_precision': 0.4934497465613974, 'eval_recall': 0.4957086522848527, 'eval_f1': 0.4905915827112744, 'eval_runtime': 220.3176, 'eval_samples_per_second': 19.567, 'eval_steps_per_second': 0.309, 'epoch': 1.0471204188481675}\n"
     ]
    },
    {
     "data": {
      "text/plain": [
       "('outputs/final_model/tokenizer_config.json',\n",
       " 'outputs/final_model/special_tokens_map.json',\n",
       " 'outputs/final_model/vocab.json',\n",
       " 'outputs/final_model/merges.txt',\n",
       " 'outputs/final_model/added_tokens.json',\n",
       " 'outputs/final_model/tokenizer.json')"
      ]
     },
     "execution_count": 12,
     "metadata": {},
     "output_type": "execute_result"
    }
   ],
   "source": [
    "eval_results = trainer.evaluate()\n",
    "print(f\"Final evaluation results: {eval_results}\")\n",
    "trainer.save_model(f\"{config.output_dir}/final_model\")\n",
    "tokenizer.save_pretrained(f\"{config.output_dir}/final_model\")"
   ]
  },
  {
   "cell_type": "code",
   "execution_count": 13,
   "id": "6de26a26-108b-4e16-872c-62b276f0f0b1",
   "metadata": {},
   "outputs": [
    {
     "name": "stderr",
     "output_type": "stream",
     "text": [
      "Trainer.tokenizer is now deprecated. You should use Trainer.processing_class instead.\n"
     ]
    },
    {
     "name": "stdout",
     "output_type": "stream",
     "text": [
      "Evaluating validation dataset...\n"
     ]
    },
    {
     "data": {
      "image/png": "[encoded data removed]",
      "text/plain": [
       "<Figure size 800x600 with 2 Axes>"
      ]
     },
     "metadata": {},
     "output_type": "display_data"
    },
    {
     "name": "stderr",
     "output_type": "stream",
     "text": [
      "Trainer.tokenizer is now deprecated. You should use Trainer.processing_class instead.\n"
     ]
    },
    {
     "name": "stdout",
     "output_type": "stream",
     "text": [
      "\n",
      "Classification Report - Validation Set\n",
      "              precision    recall  f1-score   support\n",
      "\n",
      "           0       0.50      0.56      0.53      1531\n",
      "           1       0.50      0.56      0.53      1454\n",
      "           2       0.47      0.35      0.40      1326\n",
      "\n",
      "    accuracy                           0.50      4311\n",
      "   macro avg       0.49      0.49      0.49      4311\n",
      "weighted avg       0.49      0.50      0.49      4311\n",
      "\n",
      "\n",
      "Evaluating test dataset...\n"
     ]
    },
    {
     "data": {
      "text/html": [],
      "text/plain": [
       "<IPython.core.display.HTML object>"
      ]
     },
     "metadata": {},
     "output_type": "display_data"
    },
    {
     "data": {
      "image/png": "[encoded data removed]",
      "text/plain": [
       "<Figure size 800x600 with 2 Axes>"
      ]
     },
     "metadata": {},
     "output_type": "display_data"
    },
    {
     "name": "stdout",
     "output_type": "stream",
     "text": [
      "\n",
      "Classification Report - Test Set\n",
      "              precision    recall  f1-score   support\n",
      "\n",
      "           0       0.50      0.56      0.53      1531\n",
      "           1       0.50      0.56      0.53      1454\n",
      "           2       0.47      0.35      0.40      1326\n",
      "\n",
      "    accuracy                           0.50      4311\n",
      "   macro avg       0.49      0.49      0.49      4311\n",
      "weighted avg       0.49      0.50      0.49      4311\n",
      "\n",
      "\n",
      "Metrics Comparison:\n",
      "{'Validation': {'test_loss': 1.0124139785766602, 'test_cross_entropy_loss': 1.029211401939392, 'test_accuracy': 0.4957086522848527, 'test_precision': 0.4934521066426075, 'test_recall': 0.4957086522848527, 'test_f1': 0.49059194234923204, 'test_runtime': 220.3661, 'test_samples_per_second': 19.563, 'test_steps_per_second': 0.309}, 'Test': {'test_loss': 1.0124164819717407, 'test_cross_entropy_loss': 1.0292117595672607, 'test_accuracy': 0.4957086522848527, 'test_precision': 0.4934497465613974, 'test_recall': 0.4957086522848527, 'test_f1': 0.4905915827112744, 'test_runtime': 220.3253, 'test_samples_per_second': 19.567, 'test_steps_per_second': 0.309}}\n"
     ]
    }
   ],
   "source": [
    "# Evaluate on validation dataset\n",
    "print(\"Evaluating validation dataset...\")\n",
    "eval_metrics = evaluate_and_visualize(trainer, eval_dataset, \"Validation Set\")\n",
    "\n",
    "# Evaluate on test dataset\n",
    "print(\"\\nEvaluating test dataset...\")\n",
    "test_metrics = evaluate_and_visualize(trainer, test_dataset, \"Test Set\")\n",
    "\n",
    "# Compare metrics\n",
    "metrics_comparison = {\n",
    "    'Validation': eval_metrics,\n",
    "    'Test': test_metrics\n",
    "}\n",
    "print(\"\\nMetrics Comparison:\")\n",
    "print(metrics_comparison)"
   ]
  },
  {
   "cell_type": "code",
   "execution_count": null,
   "id": "c0e7640a-4d0c-4bf0-872b-5ff9e4f76b59",
   "metadata": {},
   "outputs": [],
   "source": []
  }
 ],
 "metadata": {
  "kernelspec": {
   "display_name": "Python (venv)",
   "language": "python",
   "name": "venv-kernel"
  },
  "language_info": {
   "codemirror_mode": {
    "name": "ipython",
    "version": 3
   },
   "file_extension": ".py",
   "mimetype": "text/x-python",
   "name": "python",
   "nbconvert_exporter": "python",
   "pygments_lexer": "ipython3",
   "version": "3.9.4"
  }
 },
 "nbformat": 4,
 "nbformat_minor": 5
}
